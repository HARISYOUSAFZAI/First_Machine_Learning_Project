{
 "cells": [
  {
   "cell_type": "code",
   "execution_count": 1,
   "metadata": {},
   "outputs": [],
   "source": [
    "import os \n",
    "ROOT_DIR = os.chdir('e:\\\\PyCharm\\\\First_Machine_Learning_Project')\n",
    "ROOT_DIR = os.getcwd()  # to current working directory\n",
    "CONFIG_DIR = \"config\"\n",
    "CONFIG_FILE_NAME = \"config.yaml\"\n",
    "CONFIG_FILE_PATH = os.path.join(ROOT_DIR,CONFIG_DIR,CONFIG_FILE_NAME)\n"
   ]
  },
  {
   "cell_type": "code",
   "execution_count": 2,
   "metadata": {},
   "outputs": [
    {
     "data": {
      "text/plain": [
       "'e:\\\\PyCharm\\\\First_Machine_Learning_Project\\\\config\\\\config.yaml'"
      ]
     },
     "execution_count": 2,
     "metadata": {},
     "output_type": "execute_result"
    }
   ],
   "source": [
    "CONFIG_FILE_PATH"
   ]
  },
  {
   "cell_type": "code",
   "execution_count": 3,
   "metadata": {},
   "outputs": [],
   "source": [
    "from housing.constant import *"
   ]
  },
  {
   "cell_type": "code",
   "execution_count": 4,
   "metadata": {},
   "outputs": [
    {
     "data": {
      "text/plain": [
       "'artifact_dir'"
      ]
     },
     "execution_count": 4,
     "metadata": {},
     "output_type": "execute_result"
    }
   ],
   "source": [
    "TRAINING_PIPELINE_ARTIFACT_DIR_KEY"
   ]
  },
  {
   "cell_type": "code",
   "execution_count": 5,
   "metadata": {},
   "outputs": [
    {
     "data": {
      "text/plain": [
       "'e:\\\\PyCharm\\\\First_Machine_Learning_Project'"
      ]
     },
     "execution_count": 5,
     "metadata": {},
     "output_type": "execute_result"
    }
   ],
   "source": [
    "os.getcwd()"
   ]
  },
  {
   "cell_type": "code",
   "execution_count": 6,
   "metadata": {},
   "outputs": [],
   "source": [
    "os.chdir('e:\\\\PyCharm\\\\First_Machine_Learning_Project')"
   ]
  },
  {
   "cell_type": "code",
   "execution_count": 7,
   "metadata": {},
   "outputs": [],
   "source": [
    "from housing import config\n",
    "\n",
    "\n"
   ]
  },
  {
   "cell_type": "code",
   "execution_count": 8,
   "metadata": {},
   "outputs": [],
   "source": [
    "from housing.config.configuration import Configuration"
   ]
  },
  {
   "cell_type": "code",
   "execution_count": 9,
   "metadata": {},
   "outputs": [],
   "source": [
    "config = Configuration ()"
   ]
  },
  {
   "cell_type": "code",
   "execution_count": 10,
   "metadata": {},
   "outputs": [
    {
     "data": {
      "text/plain": [
       "'e:\\\\PyCharm\\\\First_Machine_Learning_Project'"
      ]
     },
     "execution_count": 10,
     "metadata": {},
     "output_type": "execute_result"
    }
   ],
   "source": [
    "os.getcwd()"
   ]
  },
  {
   "cell_type": "code",
   "execution_count": 11,
   "metadata": {},
   "outputs": [],
   "source": [
    "os.chdir(\"e:\\\\PyCharm\\\\First_Machine_Learning_Project\")"
   ]
  },
  {
   "cell_type": "code",
   "execution_count": 12,
   "metadata": {},
   "outputs": [
    {
     "data": {
      "text/plain": [
       "['.dockerignore',\n",
       " '.git',\n",
       " '.github',\n",
       " '.gitignore',\n",
       " '.idea',\n",
       " '.pytest_cache',\n",
       " '.vscode',\n",
       " 'app.py',\n",
       " 'build',\n",
       " 'Config',\n",
       " 'demo.py',\n",
       " 'dist',\n",
       " 'Dockerfile',\n",
       " 'housing',\n",
       " 'housing_logs',\n",
       " 'housing_predictor.egg-info',\n",
       " 'jupyternotebook',\n",
       " 'LICENSE',\n",
       " 'README.md',\n",
       " 'requirement.txt',\n",
       " 'requirements.txt',\n",
       " 'setup.py',\n",
       " '__pycache__']"
      ]
     },
     "execution_count": 12,
     "metadata": {},
     "output_type": "execute_result"
    }
   ],
   "source": [
    "os.listdir()"
   ]
  },
  {
   "cell_type": "code",
   "execution_count": 13,
   "metadata": {},
   "outputs": [
    {
     "data": {
      "text/plain": [
       "['config.yaml', 'schema.yaml']"
      ]
     },
     "execution_count": 13,
     "metadata": {},
     "output_type": "execute_result"
    }
   ],
   "source": [
    "os.listdir(\"Config\")"
   ]
  },
  {
   "cell_type": "code",
   "execution_count": 14,
   "metadata": {},
   "outputs": [],
   "source": [
    "config_file_path=os.getcwd()+os.path.join(\"\\\\config\",\"config.yaml\")"
   ]
  },
  {
   "cell_type": "code",
   "execution_count": 15,
   "metadata": {},
   "outputs": [
    {
     "data": {
      "text/plain": [
       "'e:\\\\PyCharm\\\\First_Machine_Learning_Project\\\\config\\\\config.yaml'"
      ]
     },
     "execution_count": 15,
     "metadata": {},
     "output_type": "execute_result"
    }
   ],
   "source": [
    "config_file_path"
   ]
  },
  {
   "cell_type": "code",
   "execution_count": 16,
   "metadata": {},
   "outputs": [],
   "source": [
    "import yaml\n",
    "config_info = None\n",
    "with open(config_file_path,'rb') as yaml_file:\n",
    "    config= yaml.safe_load(yaml_file)"
   ]
  },
  {
   "attachments": {},
   "cell_type": "markdown",
   "metadata": {},
   "source": []
  },
  {
   "cell_type": "code",
   "execution_count": 17,
   "metadata": {},
   "outputs": [],
   "source": [
    "from housing.constant import *\n"
   ]
  },
  {
   "cell_type": "code",
   "execution_count": 18,
   "metadata": {},
   "outputs": [
    {
     "data": {
      "text/plain": [
       "{'training_pipeline_config': {'pipeline_name': 'housing',\n",
       "  'artifact_dir': 'artifact'},\n",
       " 'data_ingestion_config': {'dataset_download_url': 'https://raw.githubusercontent.com/ageron/handson-ml/master/datasets/housing/housing.tgz',\n",
       "  'tgz_download_dir': 'tgz_sata',\n",
       "  'ingested_dir': 'ingested_data',\n",
       "  'raw_data_dir': 'row_data',\n",
       "  'ingested_train_dir': 'train',\n",
       "  'ingested_test_dir': 'test'},\n",
       " 'data_validation_config': {'schema_dir': 'config',\n",
       "  'schema_file_name': 'schema.yaml',\n",
       "  'report_file_name': 'report.json',\n",
       "  'report_page_file_name': 'report.html'},\n",
       " 'data_transformation_config': {'add_bedroom_per_room': True,\n",
       "  'transformed_train_dir': 'train',\n",
       "  'transformed_dir': 'transformed_data',\n",
       "  'transformed_test_dir': 'test',\n",
       "  'preprocessed_dir': 'preprocessed',\n",
       "  'preprocessed_object_file_path': 'preprocessed.pkl'},\n",
       " 'model_trainer_config': {'trained_model_model_dir': 'trained_model',\n",
       "  'model_file_name': 'model.pkl',\n",
       "  'base_accuracy': 0.6},\n",
       " 'model_pusher_config': {'model_export_dir': 'saved_models'}}"
      ]
     },
     "execution_count": 18,
     "metadata": {},
     "output_type": "execute_result"
    }
   ],
   "source": [
    "config"
   ]
  },
  {
   "cell_type": "code",
   "execution_count": 19,
   "metadata": {},
   "outputs": [
    {
     "data": {
      "text/plain": [
       "{'pipeline_name': 'housing', 'artifact_dir': 'artifact'}"
      ]
     },
     "execution_count": 19,
     "metadata": {},
     "output_type": "execute_result"
    }
   ],
   "source": [
    "config[TRAINING_PIPELINE_CONFIG_KEY]"
   ]
  },
  {
   "cell_type": "code",
   "execution_count": 20,
   "metadata": {},
   "outputs": [
    {
     "data": {
      "text/plain": [
       "'e:\\\\PyCharm\\\\First_Machine_Learning_Project'"
      ]
     },
     "execution_count": 20,
     "metadata": {},
     "output_type": "execute_result"
    }
   ],
   "source": [
    "os.getcwd()"
   ]
  },
  {
   "cell_type": "code",
   "execution_count": 21,
   "metadata": {},
   "outputs": [],
   "source": [
    "#ROOT_DIR=os.chdir(\"e:\\\\PyCharm\\\\First_Machine_Learning_Project\")"
   ]
  },
  {
   "cell_type": "code",
   "execution_count": 22,
   "metadata": {},
   "outputs": [
    {
     "data": {
      "text/plain": [
       "True"
      ]
     },
     "execution_count": 22,
     "metadata": {},
     "output_type": "execute_result"
    }
   ],
   "source": [
    "os.path.exists(ROOT_DIR)"
   ]
  },
  {
   "cell_type": "code",
   "execution_count": 23,
   "metadata": {},
   "outputs": [],
   "source": [
    "training_pipeline_config = config[TRAINING_PIPELINE_CONFIG_KEY]\n",
    "\n",
    "artifact_dir = os.path.join(ROOT_DIR, training_pipeline_config[TRAINING_PIPELINE_NAME_KEY],\n",
    "                                        training_pipeline_config[TRAINING_PIPELINE_ARTIFACT_DIR_KEY])\n",
    "          "
   ]
  },
  {
   "cell_type": "code",
   "execution_count": 24,
   "metadata": {},
   "outputs": [
    {
     "data": {
      "text/plain": [
       "'e:\\\\PyCharm\\\\First_Machine_Learning_Project\\\\housing\\\\artifact'"
      ]
     },
     "execution_count": 24,
     "metadata": {},
     "output_type": "execute_result"
    }
   ],
   "source": [
    "artifact_dir"
   ]
  },
  {
   "cell_type": "code",
   "execution_count": 25,
   "metadata": {},
   "outputs": [
    {
     "data": {
      "text/plain": [
       "'e:\\\\PyCharm\\\\First_Machine_Learning_Project'"
      ]
     },
     "execution_count": 25,
     "metadata": {},
     "output_type": "execute_result"
    }
   ],
   "source": [
    "ROOT_DIR"
   ]
  },
  {
   "cell_type": "code",
   "execution_count": null,
   "metadata": {},
   "outputs": [],
   "source": []
  },
  {
   "cell_type": "code",
   "execution_count": 26,
   "metadata": {},
   "outputs": [],
   "source": [
    "config = Configuration(config_file_path= \"e:\\\\PyCharm\\\\First_Machine_Learning_Project\\\\config\\\\config.yaml\")"
   ]
  },
  {
   "cell_type": "code",
   "execution_count": 27,
   "metadata": {},
   "outputs": [
    {
     "data": {
      "text/plain": [
       "TrainingPipelineConfig(artifact_dir='e:\\\\PyCharm\\\\First_Machine_Learning_Project\\\\housing\\\\artifact')"
      ]
     },
     "execution_count": 27,
     "metadata": {},
     "output_type": "execute_result"
    }
   ],
   "source": [
    "config.get_training_pipeline_config()"
   ]
  },
  {
   "cell_type": "code",
   "execution_count": 28,
   "metadata": {},
   "outputs": [
    {
     "data": {
      "text/plain": [
       "{'dataset_download_url': 'https://raw.githubusercontent.com/ageron/handson-ml/master/datasets/housing/housing.tgz',\n",
       " 'tgz_download_dir': 'tgz_sata',\n",
       " 'ingested_dir': 'ingested_data',\n",
       " 'raw_data_dir': 'row_data',\n",
       " 'ingested_train_dir': 'train',\n",
       " 'ingested_test_dir': 'test'}"
      ]
     },
     "execution_count": 28,
     "metadata": {},
     "output_type": "execute_result"
    }
   ],
   "source": [
    "config.config_info[DATA_INGESTION_CONFIG_KEY]"
   ]
  },
  {
   "cell_type": "code",
   "execution_count": 29,
   "metadata": {},
   "outputs": [
    {
     "data": {
      "text/plain": [
       "DataIngestionConfig(dataset_download_url='https://raw.githubusercontent.com/ageron/handson-ml/master/datasets/housing/housing.tgz', tgz_download_dir='e:\\\\PyCharm\\\\First_Machine_Learning_Project\\\\housing\\\\artifact\\\\data_ingestion\\\\2023-06-20_18-06-50\\\\tgz_sata', raw_data_dir='e:\\\\PyCharm\\\\First_Machine_Learning_Project\\\\housing\\\\artifact\\\\data_ingestion\\\\2023-06-20_18-06-50\\\\row_data', ingested_train_dir='e:\\\\PyCharm\\\\First_Machine_Learning_Project\\\\housing\\\\artifact\\\\data_ingestion\\\\2023-06-20_18-06-50\\\\ingested_data\\\\train', ingested_test_dir='e:\\\\PyCharm\\\\First_Machine_Learning_Project\\\\housing\\\\artifact\\\\data_ingestion\\\\2023-06-20_18-06-50\\\\ingested_data\\\\test')"
      ]
     },
     "execution_count": 29,
     "metadata": {},
     "output_type": "execute_result"
    }
   ],
   "source": [
    "config.get_data_ingestion_config()"
   ]
  },
  {
   "cell_type": "code",
   "execution_count": 30,
   "metadata": {},
   "outputs": [],
   "source": [
    "## Data ingestion \n",
    "\n",
    "import pandas as pd"
   ]
  },
  {
   "cell_type": "code",
   "execution_count": 64,
   "metadata": {},
   "outputs": [
    {
     "name": "stdout",
     "output_type": "stream",
     "text": [
      "Requirement already satisfied: evidently in e:\\anaconda\\envs\\machine_learning_project\\lib\\site-packages (0.3.3)\n",
      "Requirement already satisfied: nltk>=3.6.7 in e:\\anaconda\\envs\\machine_learning_project\\lib\\site-packages (from evidently) (3.8.1)\n",
      "Requirement already satisfied: statsmodels>=0.12.2 in e:\\anaconda\\envs\\machine_learning_project\\lib\\site-packages (from evidently) (0.14.0)\n",
      "Requirement already satisfied: pydantic<2,>=1.9 in e:\\anaconda\\envs\\machine_learning_project\\lib\\site-packages (from evidently) (1.10.9)\n",
      "Requirement already satisfied: umap-learn>=0.5.3 in e:\\anaconda\\envs\\machine_learning_project\\lib\\site-packages (from evidently) (0.5.3)\n",
      "Requirement already satisfied: requests>=2.19.0 in e:\\anaconda\\envs\\machine_learning_project\\lib\\site-packages (from evidently) (2.31.0)\n",
      "Requirement already satisfied: pandas>=1.3.5 in e:\\anaconda\\envs\\machine_learning_project\\lib\\site-packages (from evidently) (2.0.2)\n",
      "Requirement already satisfied: scikit-learn>=0.24.0 in e:\\anaconda\\envs\\machine_learning_project\\lib\\site-packages (from evidently) (1.2.2)\n",
      "Requirement already satisfied: plotly>=5.5.0 in e:\\anaconda\\envs\\machine_learning_project\\lib\\site-packages (from evidently) (5.15.0)\n",
      "Requirement already satisfied: PyYAML>=5.1 in e:\\anaconda\\envs\\machine_learning_project\\lib\\site-packages (from evidently) (6.0)\n",
      "Requirement already satisfied: scipy>=1.5.4 in e:\\anaconda\\envs\\machine_learning_project\\lib\\site-packages (from evidently) (1.10.1)\n",
      "Requirement already satisfied: numpy>=1.19.5 in e:\\anaconda\\envs\\machine_learning_project\\lib\\site-packages (from evidently) (1.24.3)\n",
      "Requirement already satisfied: joblib in e:\\anaconda\\envs\\machine_learning_project\\lib\\site-packages (from nltk>=3.6.7->evidently) (1.2.0)\n",
      "Requirement already satisfied: click in e:\\anaconda\\envs\\machine_learning_project\\lib\\site-packages (from nltk>=3.6.7->evidently) (8.0.4)\n",
      "Requirement already satisfied: regex>=2021.8.3 in e:\\anaconda\\envs\\machine_learning_project\\lib\\site-packages (from nltk>=3.6.7->evidently) (2023.6.3)\n",
      "Requirement already satisfied: tqdm in e:\\anaconda\\envs\\machine_learning_project\\lib\\site-packages (from nltk>=3.6.7->evidently) (4.65.0)\n",
      "Requirement already satisfied: tzdata>=2022.1 in e:\\anaconda\\envs\\machine_learning_project\\lib\\site-packages (from pandas>=1.3.5->evidently) (2023.3)\n",
      "Requirement already satisfied: pytz>=2020.1 in e:\\anaconda\\envs\\machine_learning_project\\lib\\site-packages (from pandas>=1.3.5->evidently) (2023.3)\n",
      "Requirement already satisfied: python-dateutil>=2.8.2 in e:\\anaconda\\envs\\machine_learning_project\\lib\\site-packages (from pandas>=1.3.5->evidently) (2.8.2)\n",
      "Requirement already satisfied: packaging in e:\\anaconda\\envs\\machine_learning_project\\lib\\site-packages (from plotly>=5.5.0->evidently) (23.1)\n",
      "Requirement already satisfied: tenacity>=6.2.0 in e:\\anaconda\\envs\\machine_learning_project\\lib\\site-packages (from plotly>=5.5.0->evidently) (8.2.2)\n",
      "Requirement already satisfied: typing-extensions>=4.2.0 in e:\\anaconda\\envs\\machine_learning_project\\lib\\site-packages (from pydantic<2,>=1.9->evidently) (4.6.3)\n",
      "Requirement already satisfied: urllib3<3,>=1.21.1 in e:\\anaconda\\envs\\machine_learning_project\\lib\\site-packages (from requests>=2.19.0->evidently) (2.0.3)\n",
      "Requirement already satisfied: certifi>=2017.4.17 in e:\\anaconda\\envs\\machine_learning_project\\lib\\site-packages (from requests>=2.19.0->evidently) (2023.5.7)\n",
      "Requirement already satisfied: charset-normalizer<4,>=2 in e:\\anaconda\\envs\\machine_learning_project\\lib\\site-packages (from requests>=2.19.0->evidently) (3.1.0)\n",
      "Requirement already satisfied: idna<4,>=2.5 in e:\\anaconda\\envs\\machine_learning_project\\lib\\site-packages (from requests>=2.19.0->evidently) (3.4)\n",
      "Requirement already satisfied: threadpoolctl>=2.0.0 in e:\\anaconda\\envs\\machine_learning_project\\lib\\site-packages (from scikit-learn>=0.24.0->evidently) (3.1.0)\n",
      "Requirement already satisfied: patsy>=0.5.2 in e:\\anaconda\\envs\\machine_learning_project\\lib\\site-packages (from statsmodels>=0.12.2->evidently) (0.5.3)\n",
      "Requirement already satisfied: pynndescent>=0.5 in e:\\anaconda\\envs\\machine_learning_project\\lib\\site-packages (from umap-learn>=0.5.3->evidently) (0.5.10)\n",
      "Requirement already satisfied: numba>=0.49 in e:\\anaconda\\envs\\machine_learning_project\\lib\\site-packages (from umap-learn>=0.5.3->evidently) (0.57.0)\n",
      "Requirement already satisfied: llvmlite<0.41,>=0.40.0dev0 in e:\\anaconda\\envs\\machine_learning_project\\lib\\site-packages (from numba>=0.49->umap-learn>=0.5.3->evidently) (0.40.1rc1)\n",
      "Requirement already satisfied: six in e:\\anaconda\\envs\\machine_learning_project\\lib\\site-packages (from patsy>=0.5.2->statsmodels>=0.12.2->evidently) (1.16.0)\n",
      "Requirement already satisfied: colorama in e:\\anaconda\\envs\\machine_learning_project\\lib\\site-packages (from click->nltk>=3.6.7->evidently) (0.4.6)\n"
     ]
    },
    {
     "ename": "ModuleNotFoundError",
     "evalue": "No module named 'evidently.model_profile'",
     "output_type": "error",
     "traceback": [
      "\u001b[1;31m---------------------------------------------------------------------------\u001b[0m",
      "\u001b[1;31mModuleNotFoundError\u001b[0m                       Traceback (most recent call last)",
      "Cell \u001b[1;32mIn[64], line 3\u001b[0m\n\u001b[0;32m      1\u001b[0m get_ipython()\u001b[39m.\u001b[39msystem(\u001b[39m'\u001b[39m\u001b[39mpip install evidently\u001b[39m\u001b[39m'\u001b[39m)\n\u001b[1;32m----> 3\u001b[0m \u001b[39mfrom\u001b[39;00m \u001b[39mevidently\u001b[39;00m\u001b[39m.\u001b[39;00m\u001b[39mmodel_profile\u001b[39;00m \u001b[39mimport\u001b[39;00m Profile\n\u001b[0;32m      4\u001b[0m \u001b[39mfrom\u001b[39;00m \u001b[39mevidently\u001b[39;00m\u001b[39m.\u001b[39;00m\u001b[39mmodel_profile\u001b[39;00m\u001b[39m.\u001b[39;00m\u001b[39msections\u001b[39;00m \u001b[39mimport\u001b[39;00m DataDriftProfileSection\n",
      "\u001b[1;31mModuleNotFoundError\u001b[0m: No module named 'evidently.model_profile'"
     ]
    }
   ],
   "source": [
    "!pip install evidently\n",
    "\n",
    "from evidently.model_profile import Profile\n",
    "from evidently.model_profile.sections import DataDriftProfileSection\n",
    "\n",
    "\n"
   ]
  },
  {
   "cell_type": "code",
   "execution_count": 52,
   "metadata": {},
   "outputs": [],
   "source": [
    "test = r\"E:\\PyCharm\\First_Machine_Learning_Project\\housing\\artifact\\data_ingestion\\2023-06-19_19-06-44\\ingested_data\\test\\housing.csv\"\n",
    "train =r\"E:\\PyCharm\\First_Machine_Learning_Project\\housing\\artifact\\data_ingestion\\2023-06-19_19-06-44\\ingested_data\\train\\housing.csv\"\n"
   ]
  },
  {
   "cell_type": "code",
   "execution_count": 59,
   "metadata": {},
   "outputs": [
    {
     "ename": "ContextualVersionConflict",
     "evalue": "(numpy 1.25.0 (e:\\anaconda\\envs\\machine_learning_project\\lib\\site-packages), Requirement.parse('numpy<1.25,>=1.21'), {'numba'})",
     "output_type": "error",
     "traceback": [
      "\u001b[1;31m---------------------------------------------------------------------------\u001b[0m",
      "\u001b[1;31mContextualVersionConflict\u001b[0m                 Traceback (most recent call last)",
      "Cell \u001b[1;32mIn[59], line 9\u001b[0m\n\u001b[0;32m      6\u001b[0m \u001b[39mfrom\u001b[39;00m \u001b[39mevidently\u001b[39;00m \u001b[39mimport\u001b[39;00m ColumnMapping\n\u001b[0;32m      8\u001b[0m \u001b[39mfrom\u001b[39;00m \u001b[39mevidently\u001b[39;00m\u001b[39m.\u001b[39;00m\u001b[39mreport\u001b[39;00m \u001b[39mimport\u001b[39;00m Report\n\u001b[1;32m----> 9\u001b[0m \u001b[39mfrom\u001b[39;00m \u001b[39mevidently\u001b[39;00m\u001b[39m.\u001b[39;00m\u001b[39mmetrics\u001b[39;00m\u001b[39m.\u001b[39;00m\u001b[39mbase_metric\u001b[39;00m \u001b[39mimport\u001b[39;00m generate_column_metrics\n\u001b[0;32m     10\u001b[0m \u001b[39mfrom\u001b[39;00m \u001b[39mevidently\u001b[39;00m\u001b[39m.\u001b[39;00m\u001b[39mmetric_preset\u001b[39;00m \u001b[39mimport\u001b[39;00m DataDriftPreset, TargetDriftPreset, DataQualityPreset, RegressionPreset\n\u001b[0;32m     11\u001b[0m \u001b[39mfrom\u001b[39;00m \u001b[39mevidently\u001b[39;00m\u001b[39m.\u001b[39;00m\u001b[39mmetrics\u001b[39;00m \u001b[39mimport\u001b[39;00m \u001b[39m*\u001b[39m\n",
      "File \u001b[1;32me:\\Anaconda\\envs\\Machine_Learning_Project\\lib\\site-packages\\evidently\\metrics\\__init__.py:22\u001b[0m\n\u001b[0;32m     20\u001b[0m \u001b[39mfrom\u001b[39;00m \u001b[39m.\u001b[39;00m\u001b[39mdata_drift\u001b[39;00m\u001b[39m.\u001b[39;00m\u001b[39mdata_drift_table\u001b[39;00m \u001b[39mimport\u001b[39;00m DataDriftTable\n\u001b[0;32m     21\u001b[0m \u001b[39mfrom\u001b[39;00m \u001b[39m.\u001b[39;00m\u001b[39mdata_drift\u001b[39;00m\u001b[39m.\u001b[39;00m\u001b[39mdataset_drift_metric\u001b[39;00m \u001b[39mimport\u001b[39;00m DatasetDriftMetric\n\u001b[1;32m---> 22\u001b[0m \u001b[39mfrom\u001b[39;00m \u001b[39m.\u001b[39;00m\u001b[39mdata_drift\u001b[39;00m\u001b[39m.\u001b[39;00m\u001b[39membeddings_drift\u001b[39;00m \u001b[39mimport\u001b[39;00m EmbeddingsDriftMetric\n\u001b[0;32m     23\u001b[0m \u001b[39mfrom\u001b[39;00m \u001b[39m.\u001b[39;00m\u001b[39mdata_drift\u001b[39;00m\u001b[39m.\u001b[39;00m\u001b[39mtarget_by_features_table\u001b[39;00m \u001b[39mimport\u001b[39;00m TargetByFeaturesTable\n\u001b[0;32m     24\u001b[0m \u001b[39mfrom\u001b[39;00m \u001b[39m.\u001b[39;00m\u001b[39mdata_drift\u001b[39;00m\u001b[39m.\u001b[39;00m\u001b[39mtext_descriptors_drift_metric\u001b[39;00m \u001b[39mimport\u001b[39;00m TextDescriptorsDriftMetric\n",
      "File \u001b[1;32me:\\Anaconda\\envs\\Machine_Learning_Project\\lib\\site-packages\\evidently\\metrics\\data_drift\\embeddings_drift.py:7\u001b[0m\n\u001b[0;32m      5\u001b[0m \u001b[39mimport\u001b[39;00m \u001b[39mnumpy\u001b[39;00m \u001b[39mas\u001b[39;00m \u001b[39mnp\u001b[39;00m\n\u001b[0;32m      6\u001b[0m \u001b[39mimport\u001b[39;00m \u001b[39mpandas\u001b[39;00m \u001b[39mas\u001b[39;00m \u001b[39mpd\u001b[39;00m\n\u001b[1;32m----> 7\u001b[0m \u001b[39mimport\u001b[39;00m \u001b[39mumap\u001b[39;00m\n\u001b[0;32m      9\u001b[0m \u001b[39mfrom\u001b[39;00m \u001b[39mevidently\u001b[39;00m\u001b[39m.\u001b[39;00m\u001b[39mbase_metric\u001b[39;00m \u001b[39mimport\u001b[39;00m InputData\n\u001b[0;32m     10\u001b[0m \u001b[39mfrom\u001b[39;00m \u001b[39mevidently\u001b[39;00m\u001b[39m.\u001b[39;00m\u001b[39mbase_metric\u001b[39;00m \u001b[39mimport\u001b[39;00m Metric\n",
      "File \u001b[1;32me:\\Anaconda\\envs\\Machine_Learning_Project\\lib\\site-packages\\umap\\__init__.py:39\u001b[0m\n\u001b[0;32m     36\u001b[0m \u001b[39mimport\u001b[39;00m \u001b[39mpkg_resources\u001b[39;00m\n\u001b[0;32m     38\u001b[0m \u001b[39mtry\u001b[39;00m:\n\u001b[1;32m---> 39\u001b[0m     __version__ \u001b[39m=\u001b[39m pkg_resources\u001b[39m.\u001b[39;49mget_distribution(\u001b[39m\"\u001b[39;49m\u001b[39mumap-learn\u001b[39;49m\u001b[39m\"\u001b[39;49m)\u001b[39m.\u001b[39mversion\n\u001b[0;32m     40\u001b[0m \u001b[39mexcept\u001b[39;00m pkg_resources\u001b[39m.\u001b[39mDistributionNotFound:\n\u001b[0;32m     41\u001b[0m     __version__ \u001b[39m=\u001b[39m \u001b[39m\"\u001b[39m\u001b[39m0.5-dev\u001b[39m\u001b[39m\"\u001b[39m\n",
      "File \u001b[1;32me:\\Anaconda\\envs\\Machine_Learning_Project\\lib\\site-packages\\pkg_resources\\__init__.py:526\u001b[0m, in \u001b[0;36mget_distribution\u001b[1;34m(dist)\u001b[0m\n\u001b[0;32m    524\u001b[0m     dist \u001b[39m=\u001b[39m Requirement\u001b[39m.\u001b[39mparse(dist)\n\u001b[0;32m    525\u001b[0m \u001b[39mif\u001b[39;00m \u001b[39misinstance\u001b[39m(dist, Requirement):\n\u001b[1;32m--> 526\u001b[0m     dist \u001b[39m=\u001b[39m get_provider(dist)\n\u001b[0;32m    527\u001b[0m \u001b[39mif\u001b[39;00m \u001b[39mnot\u001b[39;00m \u001b[39misinstance\u001b[39m(dist, Distribution):\n\u001b[0;32m    528\u001b[0m     \u001b[39mraise\u001b[39;00m \u001b[39mTypeError\u001b[39;00m(\u001b[39m\"\u001b[39m\u001b[39mExpected string, Requirement, or Distribution\u001b[39m\u001b[39m\"\u001b[39m, dist)\n",
      "File \u001b[1;32me:\\Anaconda\\envs\\Machine_Learning_Project\\lib\\site-packages\\pkg_resources\\__init__.py:398\u001b[0m, in \u001b[0;36mget_provider\u001b[1;34m(moduleOrReq)\u001b[0m\n\u001b[0;32m    396\u001b[0m \u001b[39m\u001b[39m\u001b[39m\"\"\"Return an IResourceProvider for the named module or requirement\"\"\"\u001b[39;00m\n\u001b[0;32m    397\u001b[0m \u001b[39mif\u001b[39;00m \u001b[39misinstance\u001b[39m(moduleOrReq, Requirement):\n\u001b[1;32m--> 398\u001b[0m     \u001b[39mreturn\u001b[39;00m working_set\u001b[39m.\u001b[39mfind(moduleOrReq) \u001b[39mor\u001b[39;00m require(\u001b[39mstr\u001b[39;49m(moduleOrReq))[\u001b[39m0\u001b[39m]\n\u001b[0;32m    399\u001b[0m \u001b[39mtry\u001b[39;00m:\n\u001b[0;32m    400\u001b[0m     module \u001b[39m=\u001b[39m sys\u001b[39m.\u001b[39mmodules[moduleOrReq]\n",
      "File \u001b[1;32me:\\Anaconda\\envs\\Machine_Learning_Project\\lib\\site-packages\\pkg_resources\\__init__.py:966\u001b[0m, in \u001b[0;36mWorkingSet.require\u001b[1;34m(self, *requirements)\u001b[0m\n\u001b[0;32m    957\u001b[0m \u001b[39mdef\u001b[39;00m \u001b[39mrequire\u001b[39m(\u001b[39mself\u001b[39m, \u001b[39m*\u001b[39mrequirements):\n\u001b[0;32m    958\u001b[0m \u001b[39m    \u001b[39m\u001b[39m\"\"\"Ensure that distributions matching `requirements` are activated\u001b[39;00m\n\u001b[0;32m    959\u001b[0m \n\u001b[0;32m    960\u001b[0m \u001b[39m    `requirements` must be a string or a (possibly-nested) sequence\u001b[39;00m\n\u001b[1;32m   (...)\u001b[0m\n\u001b[0;32m    964\u001b[0m \u001b[39m    included, even if they were already activated in this working set.\u001b[39;00m\n\u001b[0;32m    965\u001b[0m \u001b[39m    \"\"\"\u001b[39;00m\n\u001b[1;32m--> 966\u001b[0m     needed \u001b[39m=\u001b[39m \u001b[39mself\u001b[39;49m\u001b[39m.\u001b[39;49mresolve(parse_requirements(requirements))\n\u001b[0;32m    968\u001b[0m     \u001b[39mfor\u001b[39;00m dist \u001b[39min\u001b[39;00m needed:\n\u001b[0;32m    969\u001b[0m         \u001b[39mself\u001b[39m\u001b[39m.\u001b[39madd(dist)\n",
      "File \u001b[1;32me:\\Anaconda\\envs\\Machine_Learning_Project\\lib\\site-packages\\pkg_resources\\__init__.py:827\u001b[0m, in \u001b[0;36mWorkingSet.resolve\u001b[1;34m(self, requirements, env, installer, replace_conflicting, extras)\u001b[0m\n\u001b[0;32m    824\u001b[0m \u001b[39mif\u001b[39;00m \u001b[39mnot\u001b[39;00m req_extras\u001b[39m.\u001b[39mmarkers_pass(req, extras):\n\u001b[0;32m    825\u001b[0m     \u001b[39mcontinue\u001b[39;00m\n\u001b[1;32m--> 827\u001b[0m dist \u001b[39m=\u001b[39m \u001b[39mself\u001b[39;49m\u001b[39m.\u001b[39;49m_resolve_dist(\n\u001b[0;32m    828\u001b[0m     req, best, replace_conflicting, env, installer, required_by, to_activate\n\u001b[0;32m    829\u001b[0m )\n\u001b[0;32m    831\u001b[0m \u001b[39m# push the new requirements onto the stack\u001b[39;00m\n\u001b[0;32m    832\u001b[0m new_requirements \u001b[39m=\u001b[39m dist\u001b[39m.\u001b[39mrequires(req\u001b[39m.\u001b[39mextras)[::\u001b[39m-\u001b[39m\u001b[39m1\u001b[39m]\n",
      "File \u001b[1;32me:\\Anaconda\\envs\\Machine_Learning_Project\\lib\\site-packages\\pkg_resources\\__init__.py:873\u001b[0m, in \u001b[0;36mWorkingSet._resolve_dist\u001b[1;34m(self, req, best, replace_conflicting, env, installer, required_by, to_activate)\u001b[0m\n\u001b[0;32m    870\u001b[0m \u001b[39mif\u001b[39;00m dist \u001b[39mnot\u001b[39;00m \u001b[39min\u001b[39;00m req:\n\u001b[0;32m    871\u001b[0m     \u001b[39m# Oops, the \"best\" so far conflicts with a dependency\u001b[39;00m\n\u001b[0;32m    872\u001b[0m     dependent_req \u001b[39m=\u001b[39m required_by[req]\n\u001b[1;32m--> 873\u001b[0m     \u001b[39mraise\u001b[39;00m VersionConflict(dist, req)\u001b[39m.\u001b[39mwith_context(dependent_req)\n\u001b[0;32m    874\u001b[0m \u001b[39mreturn\u001b[39;00m dist\n",
      "\u001b[1;31mContextualVersionConflict\u001b[0m: (numpy 1.25.0 (e:\\anaconda\\envs\\machine_learning_project\\lib\\site-packages), Requirement.parse('numpy<1.25,>=1.21'), {'numba'})"
     ]
    }
   ],
   "source": [
    "import pandas as pd\n",
    "import numpy as np\n",
    "\n",
    "from sklearn.datasets import fetch_california_housing\n",
    "\n",
    "from evidently import ColumnMapping\n",
    "\n",
    "from evidently.report import Report\n",
    "from evidently.metrics.base_metric import generate_column_metrics\n",
    "from evidently.metric_preset import DataDriftPreset, TargetDriftPreset, DataQualityPreset, RegressionPreset\n",
    "from evidently.metrics import *\n",
    "\n",
    "from evidently.test_suite import TestSuite\n",
    "from evidently.tests.base_test import generate_column_tests\n",
    "from evidently.test_preset import DataStabilityTestPreset, NoTargetPerformanceTestPreset\n",
    "from evidently.tests import *"
   ]
  },
  {
   "cell_type": "code",
   "execution_count": 60,
   "metadata": {},
   "outputs": [],
   "source": [
    "import matplotlib.pyplot as plt\n",
    "\n"
   ]
  },
  {
   "cell_type": "code",
   "execution_count": null,
   "metadata": {},
   "outputs": [],
   "source": []
  },
  {
   "cell_type": "code",
   "execution_count": null,
   "metadata": {},
   "outputs": [],
   "source": []
  },
  {
   "cell_type": "code",
   "execution_count": 33,
   "metadata": {},
   "outputs": [
    {
     "data": {
      "text/plain": [
       "<Axes: ylabel='Frequency'>"
      ]
     },
     "execution_count": 33,
     "metadata": {},
     "output_type": "execute_result"
    },
    {
     "data": {
      "image/png": "[encoded data removed]",
      "text/plain": [
       "<Figure size 640x480 with 1 Axes>"
      ]
     },
     "metadata": {},
     "output_type": "display_data"
    }
   ],
   "source": [
    "housing_data_frame [[\"median_income\"]].plot(kind=\"hist\")"
   ]
  },
  {
   "cell_type": "code",
   "execution_count": null,
   "metadata": {},
   "outputs": [],
   "source": []
  },
  {
   "cell_type": "code",
   "execution_count": 34,
   "metadata": {},
   "outputs": [],
   "source": [
    "import numpy as np"
   ]
  },
  {
   "cell_type": "code",
   "execution_count": 35,
   "metadata": {},
   "outputs": [],
   "source": [
    "housing_data_frame[\"income_cat\"] = pd.cut(housing_data_frame[\"median_income\"],\n",
    "                                          bins=[0.0,1.5,3.0,4.5,6.0,np.inf],\n",
    "                                          labels=[1,2,3,4,5])"
   ]
  },
  {
   "cell_type": "code",
   "execution_count": 36,
   "metadata": {},
   "outputs": [
    {
     "data": {
      "text/plain": [
       "0        5\n",
       "1        5\n",
       "2        5\n",
       "3        4\n",
       "4        3\n",
       "        ..\n",
       "20635    2\n",
       "20636    2\n",
       "20637    2\n",
       "20638    2\n",
       "20639    2\n",
       "Name: income_cat, Length: 20640, dtype: category\n",
       "Categories (5, int64): [1 < 2 < 3 < 4 < 5]"
      ]
     },
     "execution_count": 36,
     "metadata": {},
     "output_type": "execute_result"
    }
   ],
   "source": [
    "housing_data_frame.income_cat"
   ]
  },
  {
   "cell_type": "code",
   "execution_count": 37,
   "metadata": {},
   "outputs": [
    {
     "data": {
      "text/plain": [
       "([<matplotlib.patches.Wedge at 0x1e15b87c2e0>,\n",
       "  <matplotlib.patches.Wedge at 0x1e15b87c1c0>,\n",
       "  <matplotlib.patches.Wedge at 0x1e15b87cbb0>,\n",
       "  <matplotlib.patches.Wedge at 0x1e15b87d030>,\n",
       "  <matplotlib.patches.Wedge at 0x1e15b87d4b0>],\n",
       " [Text(0.49759850713241616, 0.9810176989736684, '3'),\n",
       "  Text(-1.0978272902668031, -0.06910311675640082, '2'),\n",
       "  Text(0.052385887306755786, -1.0987518913799803, '4'),\n",
       "  Text(0.9017710292481974, -0.6299277822168561, '5'),\n",
       "  Text(1.0914015713324503, -0.1372683870855143, '1')])"
      ]
     },
     "execution_count": 37,
     "metadata": {},
     "output_type": "execute_result"
    },
    {
     "data": {
      "image/png": "[encoded data removed]",
      "text/plain": [
       "<Figure size 640x480 with 1 Axes>"
      ]
     },
     "metadata": {},
     "output_type": "display_data"
    }
   ],
   "source": [
    "plt.pie(housing_data_frame.income_cat.value_counts(),labels = housing_data_frame.income_cat.value_counts().index)"
   ]
  },
  {
   "cell_type": "code",
   "execution_count": 38,
   "metadata": {},
   "outputs": [],
   "source": [
    "from sklearn.model_selection import StratifiedShuffleSplit"
   ]
  },
  {
   "cell_type": "code",
   "execution_count": 39,
   "metadata": {},
   "outputs": [],
   "source": [
    "split = StratifiedShuffleSplit(n_splits=1,test_size=0.2,random_state=42)"
   ]
  },
  {
   "cell_type": "code",
   "execution_count": 40,
   "metadata": {},
   "outputs": [
    {
     "name": "stdout",
     "output_type": "stream",
     "text": [
      "[12655 15502  2908 ... 19263 19140 19773] [ 5241 17352  3505 ... 17223 10786  3965]\n"
     ]
    }
   ],
   "source": [
    "for train_ix,test_ix in split.split(housing_data_frame,housing_data_frame[\"income_cat\"]):\n",
    "    print(train_ix,test_ix)"
   ]
  },
  {
   "cell_type": "code",
   "execution_count": 41,
   "metadata": {},
   "outputs": [],
   "source": [
    "train_df = housing_data_frame.loc[train_ix]"
   ]
  },
  {
   "cell_type": "code",
   "execution_count": 42,
   "metadata": {},
   "outputs": [
    {
     "data": {
      "text/plain": [
       "(16512, 11)"
      ]
     },
     "execution_count": 42,
     "metadata": {},
     "output_type": "execute_result"
    }
   ],
   "source": [
    "train_df.shape"
   ]
  },
  {
   "cell_type": "code",
   "execution_count": 43,
   "metadata": {},
   "outputs": [],
   "source": [
    "test_df = housing_data_frame.loc[test_ix]"
   ]
  },
  {
   "cell_type": "code",
   "execution_count": 44,
   "metadata": {},
   "outputs": [
    {
     "data": {
      "text/plain": [
       "([<matplotlib.patches.Wedge at 0x1e17385beb0>,\n",
       "  <matplotlib.patches.Wedge at 0x1e17385bd90>,\n",
       "  <matplotlib.patches.Wedge at 0x1e1738607c0>,\n",
       "  <matplotlib.patches.Wedge at 0x1e173860c40>,\n",
       "  <matplotlib.patches.Wedge at 0x1e1738610c0>],\n",
       " [Text(0.4977478486620421, 0.9809419346486871, '3'),\n",
       "  Text(-1.0978587359461678, -0.06860171941491643, '2'),\n",
       "  Text(0.05188401799556997, -1.0987757044441033, '4'),\n",
       "  Text(0.901387253785249, -0.6304768185377533, '5'),\n",
       "  Text(1.091338760646111, -0.13776686652243586, '1')])"
      ]
     },
     "execution_count": 44,
     "metadata": {},
     "output_type": "execute_result"
    },
    {
     "data": {
      "image/png": "[encoded data removed]",
      "text/plain": [
       "<Figure size 640x480 with 1 Axes>"
      ]
     },
     "metadata": {},
     "output_type": "display_data"
    }
   ],
   "source": [
    "plt.pie(test_df.income_cat.value_counts(),labels = test_df.income_cat.value_counts().index)"
   ]
  },
  {
   "cell_type": "code",
   "execution_count": 45,
   "metadata": {},
   "outputs": [
    {
     "data": {
      "text/plain": [
       "array([dtype('float64'), dtype('float64'), dtype('float64'),\n",
       "       dtype('float64'), dtype('float64'), dtype('float64'),\n",
       "       dtype('float64'), dtype('float64'), dtype('float64'), dtype('O'),\n",
       "       CategoricalDtype(categories=[1, 2, 3, 4, 5], ordered=True)],\n",
       "      dtype=object)"
      ]
     },
     "execution_count": 45,
     "metadata": {},
     "output_type": "execute_result"
    }
   ],
   "source": [
    "\n",
    "housing_data_frame.dtypes.values\n"
   ]
  },
  {
   "cell_type": "code",
   "execution_count": 46,
   "metadata": {},
   "outputs": [],
   "source": [
    "data_type=list(map(lambda x:str(x).replace(\"dtype('\",\"\").replace(\"')\",\"\"),housing_data_frame.dtypes.values))"
   ]
  },
  {
   "cell_type": "code",
   "execution_count": 47,
   "metadata": {},
   "outputs": [],
   "source": [
    "column = housing_data_frame.columns"
   ]
  },
  {
   "cell_type": "code",
   "execution_count": 48,
   "metadata": {},
   "outputs": [
    {
     "data": {
      "text/plain": [
       "{'longitude': 'float64',\n",
       " 'latitude': 'float64',\n",
       " 'housing_median_age': 'float64',\n",
       " 'total_rooms': 'float64',\n",
       " 'total_bedrooms': 'float64',\n",
       " 'population': 'float64',\n",
       " 'households': 'float64',\n",
       " 'median_income': 'float64',\n",
       " 'median_house_value': 'float64',\n",
       " 'ocean_proximity': 'object',\n",
       " 'income_cat': 'category'}"
      ]
     },
     "execution_count": 48,
     "metadata": {},
     "output_type": "execute_result"
    }
   ],
   "source": [
    "dict(zip(column,data_type))"
   ]
  },
  {
   "cell_type": "code",
   "execution_count": 49,
   "metadata": {},
   "outputs": [
    {
     "data": {
      "text/plain": [
       "array(['NEAR BAY', '<1H OCEAN', 'INLAND', 'NEAR OCEAN', 'ISLAND'],\n",
       "      dtype=object)"
      ]
     },
     "execution_count": 49,
     "metadata": {},
     "output_type": "execute_result"
    }
   ],
   "source": [
    "housing_data_frame.ocean_proximity.unique()\n"
   ]
  },
  {
   "cell_type": "code",
   "execution_count": null,
   "metadata": {},
   "outputs": [],
   "source": []
  }
 ],
 "metadata": {
  "kernelspec": {
   "display_name": "Machine_Learning_Project",
   "language": "python",
   "name": "python3"
  },
  "language_info": {
   "codemirror_mode": {
    "name": "ipython",
    "version": 3
   },
   "file_extension": ".py",
   "mimetype": "text/x-python",
   "name": "python",
   "nbconvert_exporter": "python",
   "pygments_lexer": "ipython3",
   "version": "3.10.11"
  },
  "orig_nbformat": 4
 },
 "nbformat": 4,
 "nbformat_minor": 2
}
